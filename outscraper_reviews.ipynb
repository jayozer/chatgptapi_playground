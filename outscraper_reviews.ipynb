{
 "cells": [
  {
   "cell_type": "code",
   "execution_count": 19,
   "metadata": {},
   "outputs": [
    {
     "name": "stderr",
     "output_type": "stream",
     "text": [
      "1504.18s - pydevd: Sending message related to process being replaced timed-out after 5 seconds\n"
     ]
    },
    {
     "name": "stdout",
     "output_type": "stream",
     "text": [
      "Requirement already satisfied: outscraper in ./env_chatgptapi_playground/lib/python3.10/site-packages (3.0.2)\n",
      "Requirement already satisfied: requests in ./env_chatgptapi_playground/lib/python3.10/site-packages (from outscraper) (2.28.2)\n",
      "Requirement already satisfied: charset-normalizer<4,>=2 in ./env_chatgptapi_playground/lib/python3.10/site-packages (from requests->outscraper) (3.0.1)\n",
      "Requirement already satisfied: urllib3<1.27,>=1.21.1 in ./env_chatgptapi_playground/lib/python3.10/site-packages (from requests->outscraper) (1.26.14)\n",
      "Requirement already satisfied: idna<4,>=2.5 in ./env_chatgptapi_playground/lib/python3.10/site-packages (from requests->outscraper) (3.4)\n",
      "Requirement already satisfied: certifi>=2017.4.17 in ./env_chatgptapi_playground/lib/python3.10/site-packages (from requests->outscraper) (2022.12.7)\n"
     ]
    }
   ],
   "source": [
    "! pip install outscraper"
   ]
  },
  {
   "cell_type": "code",
   "execution_count": 34,
   "metadata": {},
   "outputs": [],
   "source": [
    "import os\n",
    "import string\n",
    "from outscraper import ApiClient\n",
    "from dotenv import load_dotenv\n",
    "# loads .env file located in the current directory\n",
    "load_dotenv() \n",
    "\n",
    "api_client = ApiClient(api_key=os.getenv('OUTSCRAPER_API_KEY'))\n",
    "\n",
    "#print(api_client)"
   ]
  },
  {
   "cell_type": "code",
   "execution_count": 38,
   "metadata": {},
   "outputs": [],
   "source": [
    "results = api_client.google_maps_search('pediatric dentistry, Novato, CA, USA', limit=9)"
   ]
  },
  {
   "cell_type": "code",
   "execution_count": 39,
   "metadata": {},
   "outputs": [
    {
     "name": "stdout",
     "output_type": "stream",
     "text": [
      "[[{'query': 'pediatric dentistry, Novato, CA, USA', 'name': 'Novato Pediatric Dentistry', 'place_id': 'ChIJJ0DU9nu7hYAR12EPlrPOHjw', 'google_id': '0x8085bb7bf6d44027:0x3c1eceb3960f61d7', 'full_address': '7428 Redwood Blvd Suite 101, Novato, CA 94945', 'borough': None, 'street': '7428 Redwood Blvd Suite 101', 'postal_code': '94945', 'area_service': False, 'country_code': 'US', 'country': 'United States of America', 'city': 'Novato', 'us_state': 'California', 'state': 'California', 'plus_code': None, 'latitude': 38.110182, 'longitude': -122.568407, 'time_zone': 'America/Los_Angeles', 'popular_times': None, 'site': 'http://www.novatopediatricdentistry.com/', 'phone': '+1 415-897-5566', 'type': 'Pediatric dentist', 'logo': 'https://lh6.googleusercontent.com/-UyVxl2iLBdY/AAAAAAAAAAI/AAAAAAAAAAA/tDAPvNjo9MY/s44-p-k-no-ns-nd/photo.jpg', 'description': None, 'located_in': None, 'located_google_id': None, 'category': 'Pediatric dentist', 'subtypes': 'Pediatric dentist, Dentist', 'posts': None, 'reviews_tags': None, 'rating': 4.9, 'reviews': 112, 'photos_count': 14, 'cid': '4332127162289054167', 'reviews_link': 'https://search.google.com/local/reviews?placeid=ChIJJ0DU9nu7hYAR12EPlrPOHjw&q=pediatric+dentistry,+Novato,+CA,+USA&authuser=0&hl=en&gl=US', 'reviews_id': '4332127162289054167', 'photo': 'https://lh5.googleusercontent.com/p/AF1QipNlzoxm7vWIMPleBG37yTP5KVuk0M9B8_1dTSHQ=w800-h500-k-no', 'street_view': 'https://lh5.googleusercontent.com/p/AF1QipNlzoxm7vWIMPleBG37yTP5KVuk0M9B8_1dTSHQ=w1600-h1000-k-no', 'working_hours_old_format': 'Sunday: Closed | Monday: 9\\u202fAM-6\\u202fPM | Tuesday: 8\\u202fAM-5\\u202fPM | Wednesday: 8\\u202fAM-5\\u202fPM | Thursday: 8\\u202fAM-5\\u202fPM | Friday: 7\\u202fAM-3\\u202fPM | Saturday: Closed', 'working_hours': {'Sunday': 'Closed', 'Monday': '9\\u202fAM-6\\u202fPM', 'Tuesday': '8\\u202fAM-5\\u202fPM', 'Wednesday': '8\\u202fAM-5\\u202fPM', 'Thursday': '8\\u202fAM-5\\u202fPM', 'Friday': '7\\u202fAM-3\\u202fPM', 'Saturday': 'Closed'}, 'other_hours': None, 'business_status': 'OPERATIONAL', 'about': {'Accessibility': {'Wheelchair accessible restroom': True}, 'Amenities': {'Restroom': True}, 'Planning': {'Accepts new patients': True, 'Appointments recommended': True}}, 'range': None, 'reviews_per_score': {'1': 2, '2': 1, '3': 0, '4': 1, '5': 108}, 'reservation_links': None, 'booking_appointment_link': None, 'menu_link': None, 'order_links': None, 'owner_id': '105305677253229107430', 'verified': True, 'owner_title': 'Novato Pediatric Dentistry', 'owner_link': 'https://www.google.com/maps/contrib/105305677253229107430', 'location_link': 'https://www.google.com/maps/place/Novato+Pediatric+Dentistry/@38.110182,-122.568407,14z/data=!4m8!1m2!2m1!1sNovato+Pediatric+Dentistry!3m4!1s0x8085bb7bf6d44027:0x3c1eceb3960f61d7!8m2!3d38.110182!4d-122.568407'}, {'query': 'pediatric dentistry, Novato, CA, USA', 'name': \"Novato Children's Dentistry\", 'place_id': 'ChIJixa-83y7hYARYPidwgCrF7A', 'google_id': '0x8085bb7cf3be168b:0xb017ab00c29df860', 'full_address': '1223 Grant Ave Ste A, Novato, CA 94945', 'borough': None, 'street': '1223 Grant Ave Ste A', 'postal_code': '94945', 'area_service': False, 'country_code': 'US', 'country': 'United States of America', 'city': 'Novato', 'us_state': 'California', 'state': 'California', 'plus_code': None, 'latitude': 38.108100799999995, 'longitude': -122.57362359999999, 'time_zone': 'America/Los_Angeles', 'popular_times': None, 'site': 'http://www.novatochildrensdentistry.com/', 'phone': '+1 415-892-6969', 'type': 'Pediatric dentist', 'logo': 'https://lh5.googleusercontent.com/-D4cZIm5x0D8/AAAAAAAAAAI/AAAAAAAAAAA/gQz-I_Y3XaU/s44-p-k-no-ns-nd/photo.jpg', 'description': None, 'located_in': None, 'located_google_id': None, 'category': 'Pediatric dentist', 'subtypes': 'Pediatric dentist', 'posts': None, 'reviews_tags': None, 'rating': 4.9, 'reviews': 87, 'photos_count': 18, 'cid': '12688798494893144160', 'reviews_link': 'https://search.google.com/local/reviews?placeid=ChIJixa-83y7hYARYPidwgCrF7A&q=pediatric+dentistry,+Novato,+CA,+USA&authuser=0&hl=en&gl=US', 'reviews_id': '-5757945578816407456', 'photo': 'https://lh5.googleusercontent.com/p/AF1QipN8PNPuSmPwf0FPe8AwBSH8Tc7cxxzBbgTejl4=w800-h500-k-no', 'street_view': 'https://lh5.googleusercontent.com/p/AF1QipN8PNPuSmPwf0FPe8AwBSH8Tc7cxxzBbgTejl4=w1600-h1000-k-no', 'working_hours_old_format': 'Sunday: Closed | Monday: 8:30\\u202fAM-5\\u202fPM | Tuesday: 8:30\\u202fAM-5\\u202fPM | Wednesday: 8:30\\u202fAM-5\\u202fPM | Thursday: 8:30\\u202fAM-5\\u202fPM | Friday: 9\\u202fAM-3\\u202fPM | Saturday: Closed', 'working_hours': {'Sunday': 'Closed', 'Monday': '8:30\\u202fAM-5\\u202fPM', 'Tuesday': '8:30\\u202fAM-5\\u202fPM', 'Wednesday': '8:30\\u202fAM-5\\u202fPM', 'Thursday': '8:30\\u202fAM-5\\u202fPM', 'Friday': '9\\u202fAM-3\\u202fPM', 'Saturday': 'Closed'}, 'other_hours': None, 'business_status': 'OPERATIONAL', 'about': {'From the business': {'Identifies as women-owned': True}, 'Accessibility': {'Wheelchair accessible restroom': True}, 'Amenities': {'Gender-neutral restroom': True, 'Restroom': True}, 'Crowd': {'LGBTQ+ friendly': True}, 'Planning': {'Appointment required': True, 'Accepts new patients': True, 'Appointments recommended': True}, 'Other': {'LGBTQ+ friendly': True, 'Identifies as women-owned': True}}, 'range': None, 'reviews_per_score': {'1': 1, '2': 0, '3': 0, '4': 3, '5': 83}, 'reservation_links': None, 'booking_appointment_link': 'https://www.novatochildrensdentistry.com/book-now', 'menu_link': None, 'order_links': None, 'owner_id': '106026274966666525631', 'verified': True, 'owner_title': \"Novato Children's Dentistry\", 'owner_link': 'https://www.google.com/maps/contrib/106026274966666525631', 'location_link': 'https://www.google.com/maps/place/Novato+Children%27s+Dentistry/@38.108100799999995,-122.57362359999999,14z/data=!4m8!1m2!2m1!1sNovato+Children%27s+Dentistry!3m4!1s0x8085bb7cf3be168b:0xb017ab00c29df860!8m2!3d38.108100799999995!4d-122.57362359999999'}, {'query': 'pediatric dentistry, Novato, CA, USA', 'name': 'Poppy Kids Pediatric Dentistry', 'place_id': 'ChIJLdUfAim9hYARqRFWA5LwoAI', 'google_id': '0x8085bd29021fd52d:0x2a0f092035611a9', 'full_address': '450 Ignacio Blvd, Novato, CA 94949', 'borough': None, 'street': '450 Ignacio Blvd', 'postal_code': '94949', 'area_service': False, 'country_code': 'US', 'country': 'United States of America', 'city': 'Novato', 'us_state': 'California', 'state': 'California', 'plus_code': None, 'latitude': 38.0676086, 'longitude': -122.5418691, 'time_zone': 'America/Los_Angeles', 'popular_times': None, 'site': 'https://www.poppykidsdental.com/contact', 'phone': '+1 415-408-5775', 'type': 'Pediatric dentist', 'logo': 'https://lh4.googleusercontent.com/-MdzEZoEFqdo/AAAAAAAAAAI/AAAAAAAAAAA/QAAxNAQjrC0/s44-p-k-no-ns-nd/photo.jpg', 'description': None, 'located_in': None, 'located_google_id': None, 'category': 'Pediatric dentist', 'subtypes': 'Pediatric dentist', 'posts': None, 'reviews_tags': None, 'rating': 5, 'reviews': 23, 'photos_count': 21, 'cid': '189415694261424553', 'reviews_link': 'https://search.google.com/local/reviews?placeid=ChIJLdUfAim9hYARqRFWA5LwoAI&q=pediatric+dentistry,+Novato,+CA,+USA&authuser=0&hl=en&gl=US', 'reviews_id': '189415694261424553', 'photo': 'https://lh5.googleusercontent.com/p/AF1QipN-FhbcvSEShc1W5KywvmPXUKUtd6_LR2t5W3c=w800-h500-k-no', 'street_view': 'https://lh5.googleusercontent.com/p/AF1QipN-FhbcvSEShc1W5KywvmPXUKUtd6_LR2t5W3c=w1600-h1000-k-no', 'working_hours_old_format': 'Sunday: Closed | Monday: 8:30\\u202fAM-5:30\\u202fPM | Tuesday: 8:30\\u202fAM-5:30\\u202fPM | Wednesday: 8:30\\u202fAM-5:30\\u202fPM | Thursday: 8:30\\u202fAM-5:30\\u202fPM | Friday: Closed | Saturday: Closed', 'working_hours': {'Sunday': 'Closed', 'Monday': '8:30\\u202fAM-5:30\\u202fPM', 'Tuesday': '8:30\\u202fAM-5:30\\u202fPM', 'Wednesday': '8:30\\u202fAM-5:30\\u202fPM', 'Thursday': '8:30\\u202fAM-5:30\\u202fPM', 'Friday': 'Closed', 'Saturday': 'Closed'}, 'other_hours': None, 'business_status': 'OPERATIONAL', 'about': {'From the business': {'Identifies as women-owned': True}, 'Service options': {'Has online care': True, 'Language assistance': 'Spanish'}, 'Accessibility': {'Wheelchair accessible entrance': True, 'Wheelchair accessible restroom': True}, 'Amenities': {'Restroom': True}, 'Crowd': {'LGBTQ+ friendly': True, 'Transgender safespace': True}, 'Planning': {'Accepts new patients': True, 'Appointments recommended': True}, 'Other': {'LGBTQ+ friendly': True, 'Identifies as women-owned': True}}, 'range': None, 'reviews_per_score': {'1': 0, '2': 0, '3': 0, '4': 0, '5': 23}, 'reservation_links': None, 'booking_appointment_link': 'https://dental4.me/poppykids/1', 'menu_link': None, 'order_links': None, 'owner_id': '102276263890076199786', 'verified': True, 'owner_title': 'Poppy Kids Pediatric Dentistry', 'owner_link': 'https://www.google.com/maps/contrib/102276263890076199786', 'location_link': 'https://www.google.com/maps/place/Poppy+Kids+Pediatric+Dentistry/@38.0676086,-122.5418691,14z/data=!4m8!1m2!2m1!1sPoppy+Kids+Pediatric+Dentistry!3m4!1s0x8085bd29021fd52d:0x2a0f092035611a9!8m2!3d38.0676086!4d-122.5418691'}, {'query': 'pediatric dentistry, Novato, CA, USA', 'name': 'San Marin Dental Care', 'place_id': 'ChIJMVyiqLm7hYARN2l2DJWgxNk', 'google_id': '0x8085bbb9a8a25c31:0xd9c4a0950c766937', 'full_address': '197 San Marin Dr, Novato, CA 94945', 'borough': None, 'street': '197 San Marin Dr', 'postal_code': '94945', 'area_service': False, 'country_code': 'US', 'country': 'United States of America', 'city': 'Novato', 'us_state': 'California', 'state': 'California', 'plus_code': None, 'latitude': 38.1223321, 'longitude': -122.6018323, 'time_zone': 'America/Los_Angeles', 'popular_times': None, 'site': 'https://www.sanmarindental.com/', 'phone': '+1 415-209-6060', 'type': 'Pediatric dentist', 'logo': 'https://lh5.googleusercontent.com/-3I6da9kfhO8/AAAAAAAAAAI/AAAAAAAAAAA/EIP49dfmkbQ/s44-p-k-no-ns-nd/photo.jpg', 'description': None, 'located_in': None, 'located_google_id': None, 'category': 'Dentist', 'subtypes': 'Pediatric dentist, Cosmetic dentist, Dental clinic, Orthodontist, Dentist, Teeth whitening service', 'posts': None, 'reviews_tags': None, 'rating': 4.9, 'reviews': 158, 'photos_count': 3, 'cid': '15691843563685308727', 'reviews_link': 'https://search.google.com/local/reviews?placeid=ChIJMVyiqLm7hYARN2l2DJWgxNk&q=pediatric+dentistry,+Novato,+CA,+USA&authuser=0&hl=en&gl=US', 'reviews_id': '-2754900510024242889', 'photo': 'https://lh5.googleusercontent.com/p/AF1QipPk3t7lfh8Aqqbgs0aoGuwDP66MQNCQ2adFbTw9=w800-h500-k-no', 'street_view': 'https://lh5.googleusercontent.com/p/AF1QipPk3t7lfh8Aqqbgs0aoGuwDP66MQNCQ2adFbTw9=w1600-h1000-k-no', 'working_hours_old_format': 'Sunday: Closed | Monday: 8\\u202fAM-5\\u202fPM | Tuesday: 8\\u202fAM-5\\u202fPM | Wednesday: 9\\u202fAM-6\\u202fPM | Thursday: 8\\u202fAM-5\\u202fPM | Friday: Closed | Saturday: Closed', 'working_hours': {'Sunday': 'Closed', 'Monday': '8\\u202fAM-5\\u202fPM', 'Tuesday': '8\\u202fAM-5\\u202fPM', 'Wednesday': '9\\u202fAM-6\\u202fPM', 'Thursday': '8\\u202fAM-5\\u202fPM', 'Friday': 'Closed', 'Saturday': 'Closed'}, 'other_hours': None, 'business_status': 'OPERATIONAL', 'about': {'Accessibility': {'Wheelchair accessible entrance': True, 'Wheelchair accessible restroom': True}, 'Amenities': {'Restroom': True}, 'Planning': {'Accepts new patients': True, 'Appointments recommended': True}}, 'range': None, 'reviews_per_score': {'1': 2, '2': 0, '3': 0, '4': 11, '5': 145}, 'reservation_links': None, 'booking_appointment_link': None, 'menu_link': None, 'order_links': None, 'owner_id': '111605868629696286321', 'verified': True, 'owner_title': 'San Marin Dental Care', 'owner_link': 'https://www.google.com/maps/contrib/111605868629696286321', 'location_link': 'https://www.google.com/maps/place/San+Marin+Dental+Care/@38.1223321,-122.6018323,14z/data=!4m8!1m2!2m1!1sSan+Marin+Dental+Care!3m4!1s0x8085bbb9a8a25c31:0xd9c4a0950c766937!8m2!3d38.1223321!4d-122.6018323'}]]\n"
     ]
    }
   ],
   "source": [
    "print(results)"
   ]
  },
  {
   "cell_type": "code",
   "execution_count": 43,
   "metadata": {},
   "outputs": [
    {
     "name": "stdout",
     "output_type": "stream",
     "text": [
      "query: pediatric dentistry, Novato, CA, USA\n",
      "name: Novato Pediatric Dentistry\n",
      "place_id: ChIJJ0DU9nu7hYAR12EPlrPOHjw\n",
      "phone: +1 415-897-5566\n",
      "website: http://www.novatopediatricdentistry.com/\n",
      "query: pediatric dentistry, Novato, CA, USA\n",
      "name: Novato Children's Dentistry\n",
      "place_id: ChIJixa-83y7hYARYPidwgCrF7A\n",
      "phone: +1 415-892-6969\n",
      "website: http://www.novatochildrensdentistry.com/\n",
      "query: pediatric dentistry, Novato, CA, USA\n",
      "name: Poppy Kids Pediatric Dentistry\n",
      "place_id: ChIJLdUfAim9hYARqRFWA5LwoAI\n",
      "phone: +1 415-408-5775\n",
      "website: https://www.poppykidsdental.com/contact\n",
      "query: pediatric dentistry, Novato, CA, USA\n",
      "name: San Marin Dental Care\n",
      "place_id: ChIJMVyiqLm7hYARN2l2DJWgxNk\n",
      "phone: +1 415-209-6060\n",
      "website: https://www.sanmarindental.com/\n"
     ]
    }
   ],
   "source": [
    "\n",
    "for query_places in results:\n",
    "    for place in query_places:\n",
    "        print('query:', place['query'])\n",
    "        print('name:', place['name'])\n",
    "        print('place_id:', place['place_id'])\n",
    "        print('phone:', place['phone'])\n",
    "        print('website:', place['site'])\n",
    "\n"
   ]
  },
  {
   "cell_type": "code",
   "execution_count": 44,
   "metadata": {},
   "outputs": [
    {
     "name": "stdout",
     "output_type": "stream",
     "text": [
      "name: Poppy Kids Pediatric Dentistry\n",
      "place_id: ChIJLdUfAim9hYARqRFWA5LwoAI\n",
      "name: Novato Pediatric Dentistry\n",
      "place_id: ChIJJ0DU9nu7hYAR12EPlrPOHjw\n"
     ]
    }
   ],
   "source": [
    "# Scrap Places by Place Ids\n",
    "results = api_client.google_maps_search(\n",
    "    [\"ChIJLdUfAim9hYARqRFWA5LwoAI\", \"ChIJJ0DU9nu7hYAR12EPlrPOHjw\"],\n",
    "    limit=1, # limit of places per each query\n",
    ")\n",
    "\n",
    "for query_places in results:\n",
    "    for place in query_places:\n",
    "        print('name:', place['name'])\n",
    "        print('place_id:', place['place_id'])"
   ]
  }
 ],
 "metadata": {
  "kernelspec": {
   "display_name": "env_chatgptapi_playground",
   "language": "python",
   "name": "python3"
  },
  "language_info": {
   "codemirror_mode": {
    "name": "ipython",
    "version": 3
   },
   "file_extension": ".py",
   "mimetype": "text/x-python",
   "name": "python",
   "nbconvert_exporter": "python",
   "pygments_lexer": "ipython3",
   "version": "3.10.4"
  },
  "orig_nbformat": 4
 },
 "nbformat": 4,
 "nbformat_minor": 2
}
