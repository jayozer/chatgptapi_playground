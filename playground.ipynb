{
 "cells": [
  {
   "cell_type": "code",
   "execution_count": 1,
   "metadata": {},
   "outputs": [],
   "source": [
    "import re\n",
    "import requests\n",
    "import os\n",
    "import streamlit as st\n",
    "import openai\n",
    "from dotenv import load_dotenv\n",
    "# loads .env file located in the current directory\n",
    "load_dotenv() \n",
    "\n",
    "openai.api_key = os.getenv('OPENAI_API_KEY')"
   ]
  },
  {
   "cell_type": "code",
   "execution_count": 2,
   "metadata": {},
   "outputs": [
    {
     "name": "stdout",
     "output_type": "stream",
     "text": [
      "{\n",
      "  \"content\": \"\\n\\nHi there! How can I assist you today?\",\n",
      "  \"role\": \"assistant\"\n",
      "}\n"
     ]
    }
   ],
   "source": [
    "\n",
    "import os\n",
    "import openai\n",
    "\n",
    "\n",
    "completion = openai.ChatCompletion.create(\n",
    "  model=\"gpt-3.5-turbo\",\n",
    "  messages=[\n",
    "    {\"role\": \"user\", \"content\": \"Hello!\"}\n",
    "  ]\n",
    ")\n",
    "\n",
    "print(completion.choices[0].message)\n",
    "\n"
   ]
  },
  {
   "cell_type": "code",
   "execution_count": 3,
   "metadata": {},
   "outputs": [
    {
     "data": {
      "text/plain": [
       "<OpenAIObject chat.completion id=chatcmpl-6sb22Fk5fcnAQ0b3P6SdVuJIwBWY0 at 0x177176b10> JSON: {\n",
       "  \"choices\": [\n",
       "    {\n",
       "      \"finish_reason\": \"stop\",\n",
       "      \"index\": 0,\n",
       "      \"message\": {\n",
       "        \"content\": \"The World Series in 2020 was played in Arlington, Texas at Globe Life Field, which is the home field of the Texas Rangers.\",\n",
       "        \"role\": \"assistant\"\n",
       "      }\n",
       "    }\n",
       "  ],\n",
       "  \"created\": 1678470082,\n",
       "  \"id\": \"chatcmpl-6sb22Fk5fcnAQ0b3P6SdVuJIwBWY0\",\n",
       "  \"model\": \"gpt-3.5-turbo-0301\",\n",
       "  \"object\": \"chat.completion\",\n",
       "  \"usage\": {\n",
       "    \"completion_tokens\": 30,\n",
       "    \"prompt_tokens\": 56,\n",
       "    \"total_tokens\": 86\n",
       "  }\n",
       "}"
      ]
     },
     "execution_count": 3,
     "metadata": {},
     "output_type": "execute_result"
    }
   ],
   "source": [
    "# Note: you need to be using OpenAI Python v0.27.0 for the code below to work\n",
    "\n",
    "openai.ChatCompletion.create(\n",
    "  model=\"gpt-3.5-turbo\",\n",
    "  messages=[\n",
    "        {\"role\": \"system\", \"content\": \"You are a helpful assistant.\"},\n",
    "        {\"role\": \"user\", \"content\": \"Who won the world series in 2020?\"},\n",
    "        {\"role\": \"assistant\", \"content\": \"The Los Angeles Dodgers won the World Series in 2020.\"},\n",
    "        {\"role\": \"user\", \"content\": \"Where was it played?\"}\n",
    "    ]\n",
    ")"
   ]
  },
  {
   "cell_type": "code",
   "execution_count": 34,
   "metadata": {},
   "outputs": [],
   "source": [
    "from_sql = \"SQL Server\"\n",
    "to_sql = \"Snowflake\"\n",
    "sql = \"SELECT getdate()\""
   ]
  },
  {
   "cell_type": "code",
   "execution_count": 35,
   "metadata": {},
   "outputs": [
    {
     "data": {
      "text/plain": [
       "<OpenAIObject chat.completion id=chatcmpl-6scgjx6sIUyOB4tKngmfB4mpadnpO at 0x177665c60> JSON: {\n",
       "  \"choices\": [\n",
       "    {\n",
       "      \"finish_reason\": \"stop\",\n",
       "      \"index\": 0,\n",
       "      \"message\": {\n",
       "        \"content\": \"Here is the equivalent of the SQL Server SQL code in Snowflake:\\n\\nSELECT CURRENT_TIMESTAMP();\",\n",
       "        \"role\": \"assistant\"\n",
       "      }\n",
       "    }\n",
       "  ],\n",
       "  \"created\": 1678476449,\n",
       "  \"id\": \"chatcmpl-6scgjx6sIUyOB4tKngmfB4mpadnpO\",\n",
       "  \"model\": \"gpt-3.5-turbo-0301\",\n",
       "  \"object\": \"chat.completion\",\n",
       "  \"usage\": {\n",
       "    \"completion_tokens\": 20,\n",
       "    \"prompt_tokens\": 78,\n",
       "    \"total_tokens\": 98\n",
       "  }\n",
       "}"
      ]
     },
     "execution_count": 35,
     "metadata": {},
     "output_type": "execute_result"
    }
   ],
   "source": [
    "openai.ChatCompletion.create(\n",
    "  model=\"gpt-3.5-turbo\",\n",
    "  messages = [\n",
    "  {\"role\": \"system\", \"content\": 'You are an expert SQL developer that is proficient in MySQL, SQL Server, Postgres and Snowflake SQL dialects.'},\n",
    "  {\"role\": \"system\", \"content\": 'Only return the converted sql code and nothing else.'},\n",
    "  {\"role\": \"system\", \"content\": 'Let''s think step by step.'},\n",
    "  \n",
    "  {\"role\": \"user\", \"content\": f'Convert the following {from_sql} SQL code to {to_sql}: \"\\n\\n{sql}\"'}\n",
    "]\n",
    ")"
   ]
  },
  {
   "cell_type": "code",
   "execution_count": 36,
   "metadata": {},
   "outputs": [],
   "source": [
    "to_sql = \"Snowflake\"\n",
    "sql = \"SELECT getdate()\""
   ]
  },
  {
   "cell_type": "code",
   "execution_count": 45,
   "metadata": {},
   "outputs": [],
   "source": [
    "to_sql = \"Snowflake\"\n",
    "def remove_indentation(text):\n",
    "    lines = text.split(\"\\n\")\n",
    "    # Find the minimum indentation level in the text\n",
    "    min_indent = min(len(line) - len(line.lstrip()) for line in lines if line.strip())\n",
    "    # Remove the indentation by replacing it with a single space\n",
    "    cleaned_lines = [line[min_indent:].strip() if line.strip() else \"\" for line in lines]\n",
    "    # Join the cleaned lines into a single string\n",
    "    cleaned_text = \"\\n\".join(cleaned_lines)\n",
    "    return cleaned_text\n",
    "\n",
    "sql =\"SELECT rt.rootid_ as Rootid, rt.Number as order_number, SU.ID, concat(SU.FirstName,' ',SU.LastName) as FullName, 'Escrow Officer' as Personnel_TypeFROM pfm_[Order] AS RT INNER JOIN pfm.Escrow AS E ON RT.RootId# =E.RootId# AND E.Id# BETWEEN RT.Id# AND RT.LastId# LEFT JOIN core.SecurityUser SU ON E.OfficerID = SU.ID UNION ALL SELECT rt.rootid# as Rootid, rt.Number as order_number, SU.ID, concat(SU.FirstName,' ',SU.LastName) as FullName, 'Escrow Assistant' as Personnel_Type FROMpfm.[Order] AS RT INNER JOIN pfm.Escrow AS E on RT.RootID# = E.RootID# AND E.Id# BETWEEN RT.ID# AND RT.LastID# LEFT JOIN core.SecurityUser SU on E.PreCloserEscrowAssistantID = SU.ID\""
   ]
  },
  {
   "cell_type": "code",
   "execution_count": 46,
   "metadata": {},
   "outputs": [
    {
     "name": "stdout",
     "output_type": "stream",
     "text": [
      "SELECT rt.rootid_ as Rootid, rt.Number as order_number, SU.ID, concat(SU.FirstName,' ',SU.LastName) as FullName, 'Escrow Officer' as Personnel_TypeFROM pfm_[Order] AS RT INNER JOIN pfm.Escrow AS E ON RT.RootId# =E.RootId# AND E.Id# BETWEEN RT.Id# AND RT.LastId# LEFT JOIN core.SecurityUser SU ON E.OfficerID = SU.ID UNION ALL SELECT rt.rootid# as Rootid, rt.Number as order_number, SU.ID, concat(SU.FirstName,' ',SU.LastName) as FullName, 'Escrow Assistant' as Personnel_Type FROMpfm.[Order] AS RT INNER JOIN pfm.Escrow AS E on RT.RootID# = E.RootID# AND E.Id# BETWEEN RT.ID# AND RT.LastID# LEFT JOIN core.SecurityUser SU on E.PreCloserEscrowAssistantID = SU.ID\n"
     ]
    }
   ],
   "source": [
    "print(remove_indentation(text))"
   ]
  },
  {
   "cell_type": "code",
   "execution_count": 69,
   "metadata": {},
   "outputs": [],
   "source": [
    "to_sql = \"Snowflake\"\n",
    "sql =\"SELECT rt.rootid_ as Rootid, rt.Number as order_number, SU.ID, concat(SU.FirstName,' ',SU.LastName) as FullName, 'Escrow Officer' as Personnel_TypeFROM pfm_[Order] AS RT INNER JOIN pfm.Escrow AS E ON RT.RootId# =E.RootId# AND E.Id# BETWEEN RT.Id# AND RT.LastId# LEFT JOIN core.SecurityUser SU ON E.OfficerID = SU.ID UNION ALL SELECT rt.rootid# as Rootid, rt.Number as order_number, SU.ID, concat(SU.FirstName,' ',SU.LastName) as FullName, 'Escrow Assistant' as Personnel_Type FROMpfm.[Order] AS RT INNER JOIN pfm.Escrow AS E on RT.RootID# = E.RootID# AND E.Id# BETWEEN RT.ID# AND RT.LastID# LEFT JOIN core.SecurityUser SU on E.PreCloserEscrowAssistantID = SU.ID\""
   ]
  },
  {
   "cell_type": "code",
   "execution_count": 68,
   "metadata": {},
   "outputs": [
    {
     "name": "stdout",
     "output_type": "stream",
     "text": [
      "{\n",
      "  \"content\": \"The SQL code you provided is already compatible with Snowflake SQL dialect. \\n\\nIf you need to explicitly specify the Snowflake dialect, you can write the query like this: \\n\\n```\\nSELECT * FROM \\\"my table\\\"\\n```\",\n",
      "  \"role\": \"assistant\"\n",
      "}\n"
     ]
    }
   ],
   "source": [
    "completion=openai.ChatCompletion.create(\n",
    "  model=\"gpt-3.5-turbo\",\n",
    "  messages = [\n",
    "  {\"role\": \"system\", \"content\": 'You are an expert SQL developer that is proficient in MySQL, SQL Server, Postgres and Snowflake SQL dialects.'},\n",
    "  {\"role\": \"system\", \"content\": 'Only return the converted sql code and nothing else.'},\n",
    "  {\"role\": \"system\", \"content\": 'Let''s think step by step.'},\n",
    "  {\"role\": \"user\", \"content\": f'Detect the dialect of the following SQL code: \"{sql}\"'},\n",
    "  {\"role\": \"user\", \"content\": f'Convert the following SQL code from detected dialect to {to_sql}: \"\\n\\n{sql}\"'}\n",
    "]\n",
    ")\n",
    "\n",
    "print(completion.choices[0].message)\n"
   ]
  },
  {
   "cell_type": "code",
   "execution_count": 75,
   "metadata": {},
   "outputs": [
    {
     "name": "stdout",
     "output_type": "stream",
     "text": [
      "[<OpenAIObject at 0x177d85350> JSON: {\n",
      "  \"finish_reason\": \"stop\",\n",
      "  \"index\": 0,\n",
      "  \"message\": {\n",
      "    \"content\": \"The SQL code you provided is already compatible with Snowflake SQL dialect. \\n\\nIf you need to explicitly specify the Snowflake dialect, you can write the query like this: \\n\\n```\\nSELECT * FROM \\\"my table\\\"\\n```\",\n",
      "    \"role\": \"assistant\"\n",
      "  }\n",
      "}]\n"
     ]
    }
   ],
   "source": [
    "print(completion.choices)\n"
   ]
  },
  {
   "cell_type": "code",
   "execution_count": null,
   "metadata": {},
   "outputs": [],
   "source": [
    "print(completion.choices[0].message)"
   ]
  },
  {
   "attachments": {},
   "cell_type": "markdown",
   "metadata": {},
   "source": [
    "# Final Function form"
   ]
  },
  {
   "cell_type": "code",
   "execution_count": 63,
   "metadata": {},
   "outputs": [],
   "source": [
    "messages=[\n",
    "            {\"role\": \"system\", \"content\": 'You are an expert SQL developer that is proficient in MySQL, SQL Server, Postgres and Snowflake SQL dialects.'},\n",
    "            {\"role\": \"system\", \"content\": 'Only return the converted sql code and nothing else.'},\n",
    "            {\"role\": \"system\", \"content\": 'Let''s think step by step.'},\n",
    "            {\"role\": \"user\", \"content\": f'Detect the dialect of the following SQL code: \"{sql}\"'},\n",
    "            {\"role\": \"user\", \"content\": f'Convert the following SQL code from detected dialect to {to_sql}: \"\\n\\n{sql}\"'}\n",
    "        ]"
   ]
  },
  {
   "cell_type": "code",
   "execution_count": 76,
   "metadata": {},
   "outputs": [],
   "source": [
    "import openai\n",
    "\n",
    "def sql_dialectify(to_sql, sql):\n",
    "    completion = openai.ChatCompletion.create(\n",
    "        model=\"gpt-3.5-turbo\",\n",
    "        messages=messages\n",
    "    )\n",
    "    return completion.choices\n"
   ]
  },
  {
   "cell_type": "code",
   "execution_count": 81,
   "metadata": {},
   "outputs": [],
   "source": [
    "to_sql = \"Snowflake\"\n",
    "sql = \"SELECT GETDATE()\""
   ]
  },
  {
   "cell_type": "code",
   "execution_count": 82,
   "metadata": {},
   "outputs": [
    {
     "name": "stdout",
     "output_type": "stream",
     "text": [
      "[<OpenAIObject at 0x177d38d60> JSON: {\n",
      "  \"finish_reason\": null,\n",
      "  \"index\": 0,\n",
      "  \"message\": {\n",
      "    \"content\": \"Here's the converted SQL code for Postgres:\\n\\n```\\nSELECT * FROM \\\"my table\\\";\\n```\\n\\nIn Postgres, table names with spaces or special characters need to be enclosed in double quotes. And the standard SQL syntax is to use all caps for reserved words, so I've modified the query accordingly.\",\n",
      "    \"role\": \"assistant\"\n",
      "  }\n",
      "}]\n"
     ]
    }
   ],
   "source": [
    "result = sql_dialectify(to_sql, sql)\n",
    "print(result)"
   ]
  },
  {
   "cell_type": "code",
   "execution_count": 92,
   "metadata": {},
   "outputs": [],
   "source": [
    "# Everything together\n",
    "\n",
    "import openai\n",
    "\n",
    "def sql_dialectify(to_sql, sql):\n",
    "    completion = openai.ChatCompletion.create(\n",
    "        model=\"gpt-3.5-turbo\",\n",
    "        messages=[\n",
    "            {\"role\": \"system\", \"content\": 'You are an expert SQL developer that is proficient in MySQL, SQL Server, Postgres and Snowflake SQL dialects.'},\n",
    "            {\"role\": \"system\", \"content\": 'Only return the converted sql code and nothing else.'},\n",
    "            {\"role\": \"system\", \"content\": 'Let''s think step by step.'},\n",
    "            {\"role\": \"user\", \"content\": f'Detect the dialect of the following SQL code: \"{sql}\"'},\n",
    "            {\"role\": \"user\", \"content\": f'Convert the following SQL code from detected dialect to {to_sql}: \"\\n\\n{sql}\"'}\n",
    "        ]\n",
    "    )\n",
    "    return completion.choices[0].message.content\n"
   ]
  },
  {
   "cell_type": "code",
   "execution_count": 93,
   "metadata": {},
   "outputs": [],
   "source": [
    "to_sql = \"Snowflake\"\n",
    "sql = \"SELECT GETDATE()\""
   ]
  },
  {
   "cell_type": "code",
   "execution_count": 94,
   "metadata": {},
   "outputs": [],
   "source": [
    "result = sql_dialectify(to_sql, sql)\n"
   ]
  },
  {
   "cell_type": "code",
   "execution_count": 95,
   "metadata": {},
   "outputs": [
    {
     "name": "stdout",
     "output_type": "stream",
     "text": [
      "Since the SQL code you provided is not specific to any dialect, I assume it is in SQL Server (T-SQL) syntax. Here is the converted code for Snowflake:\n",
      "\n",
      "```\n",
      "SELECT CURRENT_TIMESTAMP()\n",
      "``` \n",
      "\n",
      "Snowflake does not have `GETDATE()` function, so I used `CURRENT_TIMESTAMP()` instead.\n"
     ]
    }
   ],
   "source": [
    "print(result)"
   ]
  },
  {
   "cell_type": "code",
   "execution_count": 91,
   "metadata": {},
   "outputs": [
    {
     "name": "stdout",
     "output_type": "stream",
     "text": [
      "The SQL code you provided is already compatible with Snowflake SQL dialect. \n",
      "\n",
      "If you need to explicitly specify the Snowflake dialect, you can write the query like this: \n",
      "\n",
      "```\n",
      "SELECT * FROM \"my table\"\n",
      "```\n"
     ]
    }
   ],
   "source": [
    "print(completion.choices[0].message.content)"
   ]
  },
  {
   "attachments": {},
   "cell_type": "markdown",
   "metadata": {},
   "source": [
    "Security - Encode and decode"
   ]
  },
  {
   "cell_type": "code",
   "execution_count": 96,
   "metadata": {},
   "outputs": [],
   "source": [
    "# Define a function to encode field and table names in a SQL query\n",
    "def encode_sql(sql): \n",
    "\n"
   ]
  },
  {
   "cell_type": "code",
   "execution_count": null,
   "metadata": {},
   "outputs": [],
   "source": []
  },
  {
   "cell_type": "code",
   "execution_count": 99,
   "metadata": {},
   "outputs": [
    {
     "name": "stdout",
     "output_type": "stream",
     "text": [
      "('__0__ __1__()', {'Select': '__0__', 'GetDate': '__1__'})\n",
      "{'Select': '__0__', 'GetDate': '__1__'}\n"
     ]
    }
   ],
   "source": [
    "sql=\"Select GetDate()\"\n",
    "encoded=encode_sql(sql)\n",
    "field_dict=encoded[1]\n",
    "print(encoded)\n",
    "print(field_dict)"
   ]
  },
  {
   "cell_type": "code",
   "execution_count": 100,
   "metadata": {},
   "outputs": [
    {
     "data": {
      "text/plain": [
       "'Select GetDate()'"
      ]
     },
     "execution_count": 100,
     "metadata": {},
     "output_type": "execute_result"
    }
   ],
   "source": [
    "decode_sql(sql, field_dict)"
   ]
  },
  {
   "attachments": {},
   "cell_type": "markdown",
   "metadata": {},
   "source": [
    "Another mask approoch - Only the field and table/view names are masked"
   ]
  },
  {
   "cell_type": "code",
   "execution_count": 110,
   "metadata": {},
   "outputs": [],
   "source": [
    "import re\n",
    "\n",
    "def encode_sql(sql):\n",
    "    # Find all field, table, and view names using regex\n",
    "    fields = set(re.findall(r'\\b\\w+\\.\\w+\\b', sql))\n",
    "    tables = set(re.findall(r'\\bFROM\\s+(\\w+)\\b', sql, flags=re.IGNORECASE))\n",
    "    views = set(re.findall(r'\\bJOIN\\s+(\\w+)\\b', sql, flags=re.IGNORECASE))\n",
    "\n",
    "    # Replace each name with a unique mask value\n",
    "    for i, field in enumerate(fields):\n",
    "        sql = sql.replace(field, f'MASK_FIELD_{i}')\n",
    "    for i, table in enumerate(tables):\n",
    "        sql = sql.replace(table, f'MASK_TABLE_{i}')\n",
    "    for i, view in enumerate(views):\n",
    "        sql = sql.replace(view, f'MASK_VIEW_{i}')\n",
    "\n",
    "    return sql\n",
    "\n",
    "def decode_sql(encoded_sql, field_masks, table_masks, view_masks):\n",
    "    # Replace each mask value with its corresponding name\n",
    "    for i, mask in enumerate(field_masks):\n",
    "        encoded_sql = encoded_sql.replace(f'MASK_FIELD_{i}', mask)\n",
    "    for i, mask in enumerate(table_masks):\n",
    "        encoded_sql = encoded_sql.replace(f'MASK_TABLE_{i}', mask)\n",
    "    for i, mask in enumerate(view_masks):\n",
    "        encoded_sql = encoded_sql.replace(f'MASK_VIEW_{i}', mask)\n",
    "\n",
    "    return encoded_sql\n",
    "\n"
   ]
  },
  {
   "cell_type": "code",
   "execution_count": 112,
   "metadata": {},
   "outputs": [
    {
     "name": "stdout",
     "output_type": "stream",
     "text": [
      "SELECT MASK_FIELD_4, MASK_FIELD_3 FROM MASK_TABLE_0 JOIN MASK_VIEW_0 ON MASK_FIELD_2 = MASK_FIELD_1 WHERE MASK_FIELD_0 = \"complete\"\n"
     ]
    },
    {
     "ename": "TypeError",
     "evalue": "decode_sql() missing 3 required positional arguments: 'field_masks', 'table_masks', and 'view_masks'",
     "output_type": "error",
     "traceback": [
      "\u001b[0;31m---------------------------------------------------------------------------\u001b[0m",
      "\u001b[0;31mTypeError\u001b[0m                                 Traceback (most recent call last)",
      "Cell \u001b[0;32mIn[112], line 11\u001b[0m\n\u001b[1;32m      8\u001b[0m \u001b[39mprint\u001b[39m(encoded_sql)\n\u001b[1;32m     10\u001b[0m \u001b[39m# Decode the encoded SQL query\u001b[39;00m\n\u001b[0;32m---> 11\u001b[0m decoded_sql \u001b[39m=\u001b[39m decode_sql(encoded_sql)\n\u001b[1;32m     13\u001b[0m \u001b[39m# Print the decoded SQL query\u001b[39;00m\n\u001b[1;32m     14\u001b[0m \u001b[39mprint\u001b[39m(decoded_sql)\n",
      "\u001b[0;31mTypeError\u001b[0m: decode_sql() missing 3 required positional arguments: 'field_masks', 'table_masks', and 'view_masks'"
     ]
    }
   ],
   "source": [
    "# Example SQL query\n",
    "sql = 'SELECT users.name, orders.amount FROM users JOIN orders ON users.id = orders.user_id WHERE orders.status = \"complete\"'\n",
    "\n",
    "# Encode the SQL query\n",
    "encoded_sql = encode_sql(sql)\n",
    "\n",
    "# Print the encoded SQL query\n",
    "print(encoded_sql)\n",
    "\n",
    "# Decode the encoded SQL query\n",
    "decoded_sql = decode_sql(encoded_sql, ['name', 'amount'], ['users', 'orders'], [])\n",
    "\n",
    "# Print the decoded SQL query\n",
    "print(decoded_sql)\n"
   ]
  },
  {
   "cell_type": "code",
   "execution_count": 117,
   "metadata": {},
   "outputs": [],
   "source": [
    "def find_schema_table_names(sql):\n",
    "    # Extract a list of unique schema and table names using regex\n",
    "    schema_table_names = list(set(re.findall(r\"\\b\\w+\\b(?![^\\(]*\\))\", sql)))\n",
    "    # Return the list of schema and table names\n",
    "    return schema_table_names"
   ]
  },
  {
   "cell_type": "code",
   "execution_count": 118,
   "metadata": {},
   "outputs": [
    {
     "data": {
      "text/plain": [
       "['id',\n",
       " 'SELECT',\n",
       " 'users',\n",
       " 'complete',\n",
       " 'JOIN',\n",
       " 'user_id',\n",
       " 'ON',\n",
       " 'status',\n",
       " 'amount',\n",
       " 'name',\n",
       " 'orders',\n",
       " 'FROM',\n",
       " 'WHERE']"
      ]
     },
     "execution_count": 118,
     "metadata": {},
     "output_type": "execute_result"
    }
   ],
   "source": [
    "# Example SQL query\n",
    "sql = 'SELECT users.name, orders.amount FROM users JOIN orders ON users.id = orders.user_id WHERE orders.status = \"complete\"'\n",
    "\n",
    "find_schema_table_names(sql)"
   ]
  }
 ],
 "metadata": {
  "kernelspec": {
   "display_name": "env_chatgptapi_playground",
   "language": "python",
   "name": "python3"
  },
  "language_info": {
   "codemirror_mode": {
    "name": "ipython",
    "version": 3
   },
   "file_extension": ".py",
   "mimetype": "text/x-python",
   "name": "python",
   "nbconvert_exporter": "python",
   "pygments_lexer": "ipython3",
   "version": "3.10.4"
  },
  "orig_nbformat": 4
 },
 "nbformat": 4,
 "nbformat_minor": 2
}
