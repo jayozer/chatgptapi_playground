{
 "cells": [
  {
   "cell_type": "code",
   "execution_count": 22,
   "metadata": {},
   "outputs": [
    {
     "data": {
      "text/plain": [
       "True"
      ]
     },
     "execution_count": 22,
     "metadata": {},
     "output_type": "execute_result"
    }
   ],
   "source": [
    "import os\n",
    "import openai\n",
    "openai.api_key = os.getenv('OPENAI_API_KEY')\n",
    "from dotenv import load_dotenv\n",
    "# loads .env file located in the current directory\n",
    "load_dotenv() "
   ]
  },
  {
   "cell_type": "code",
   "execution_count": 23,
   "metadata": {},
   "outputs": [
    {
     "name": "stdout",
     "output_type": "stream",
     "text": [
      "ChatGPT: \n",
      "\n",
      "Here's a random Python function that returns the sum of two numbers:\n",
      "\n",
      "```\n",
      "def add_numbers(x, y):\n",
      "    \"\"\"\n",
      "    This function takes two integers as input and returns their sum.\n",
      "    \"\"\"\n",
      "    return x + y\n",
      "```\n",
      "\n",
      "To use the function, simply call it with two arguments:\n",
      "\n",
      "```\n",
      "result = add_numbers(2, 4)\n",
      "print(result)  # Output: 6\n",
      "```\n"
     ]
    }
   ],
   "source": [
    "content = input(\"User: \")\n",
    "completion = openai.ChatCompletion.create(\n",
    "  model=\"gpt-3.5-turbo\",\n",
    "  messages=[\n",
    "    {\"role\": \"user\", \"content\": content}\n",
    "  ]\n",
    ")\n",
    "\n",
    "chat_response = completion.choices[0].message.content\n",
    "print(f'ChatGPT: {chat_response}')"
   ]
  },
  {
   "attachments": {},
   "cell_type": "markdown",
   "metadata": {},
   "source": [
    "System Role"
   ]
  },
  {
   "cell_type": "code",
   "execution_count": 26,
   "metadata": {},
   "outputs": [],
   "source": [
    "messages = [\n",
    "    {\"role\": \"system\", \"content\": \"You're a parent of a child who asks tough questions about child's dental exam\"}\n",
    "]"
   ]
  },
  {
   "cell_type": "code",
   "execution_count": 27,
   "metadata": {},
   "outputs": [
    {
     "name": "stdout",
     "output_type": "stream",
     "text": [
      "ChatGPT: Yes, my child has been asking me why they need to have a dental exam. Can you please explain to me why it's important for them to have this exam?\n",
      "ChatGPT: Yes, my child was nervous during the exam. Can you explain the purpose of the exam and why it is important for their dental health?\n"
     ]
    }
   ],
   "source": [
    "import os\n",
    "import openai\n",
    "openai.api_key = os.getenv(\"OPENAI_API_KEY\")\n",
    "\n",
    "while True:\n",
    "    content = input(\"User: \")\n",
    "    messages.append({\"role\": \"user\", \"content\": content})\n",
    "\n",
    "    completion = openai.ChatCompletion.create(\n",
    "      model=\"gpt-3.5-turbo\",\n",
    "      messages=messages\n",
    "    )\n",
    "\n",
    "    chat_response = completion.choices[0].message.content\n",
    "    print(f'ChatGPT: {chat_response}')"
   ]
  },
  {
   "attachments": {},
   "cell_type": "markdown",
   "metadata": {},
   "source": [
    "Assistant Role"
   ]
  },
  {
   "cell_type": "code",
   "execution_count": 2,
   "metadata": {},
   "outputs": [],
   "source": [
    "messages = [\n",
    "    {\"role\": \"system\", \"content\": \"You're a a parent of a child who asks tough questions about child's dental exam. You ask one new question after my response\"}\n",
    "]"
   ]
  },
  {
   "cell_type": "code",
   "execution_count": 3,
   "metadata": {},
   "outputs": [
    {
     "name": "stdout",
     "output_type": "stream",
     "text": [
      "ChatGPT: We recommend brushing teeth at least twice a day, but brushing after every meal is even better. It's important for your child to brush for two minutes each time and use fluoride toothpaste to help prevent cavities. Have you been helping your child with their brushing routine?\n",
      "ChatGPT: It's never too late to start! Brushing teeth can be a fun activity for parents and children to do together. You can start by encouraging your child to brush their teeth for the recommended two minutes twice a day, and you can supervise them to make sure they are brushing all surfaces of their teeth. Additionally, make sure your child is using a soft-bristled toothbrush that fits comfortably in their mouth.\n",
      "ChatGPT: Is there anything else I can help you with regarding your child's dental health?\n",
      "ChatGPT: No, that's all. Thank you for your help!\n"
     ]
    }
   ],
   "source": [
    "import os\n",
    "import openai\n",
    "openai.api_key = os.getenv(\"OPENAI_API_KEY\")\n",
    "\n",
    "while True:\n",
    "    content = input(\"User: \")\n",
    "    messages.append({\"role\": \"user\", \"content\": content})\n",
    "\n",
    "    completion = openai.ChatCompletion.create(\n",
    "      model=\"gpt-3.5-turbo\",\n",
    "      messages=messages\n",
    "    )\n",
    "\n",
    "    chat_response = completion.choices[0].message.content\n",
    "    print(f'ChatGPT: {chat_response}')\n",
    "    messages.append({\"role\": \"assistant\", \"content\": chat_response})"
   ]
  }
 ],
 "metadata": {
  "kernelspec": {
   "display_name": "env_chatgptapi_playground",
   "language": "python",
   "name": "python3"
  },
  "language_info": {
   "codemirror_mode": {
    "name": "ipython",
    "version": 3
   },
   "file_extension": ".py",
   "mimetype": "text/x-python",
   "name": "python",
   "nbconvert_exporter": "python",
   "pygments_lexer": "ipython3",
   "version": "3.10.4"
  },
  "orig_nbformat": 4
 },
 "nbformat": 4,
 "nbformat_minor": 2
}
